{
 "cells": [
  {
   "cell_type": "markdown",
   "metadata": {},
   "source": [
    "`BpForms` is a toolkit for unambiguously describing the primary sequence of biopolymers such as DNA, RNA, and proteins, including modified DNA, RNA, and proteins. This tutorial illustrates how to use the `BpForms` Python API. Please see the [documentation](https://docs.karrlab.org/bpforms/) for more information about the `BpForms` notation and more instructions for using the `BpForms` website, JSON REST API, and command line interface."
   ]
  },
  {
   "cell_type": "markdown",
   "metadata": {},
   "source": [
    "### 1. Import `BpForms`"
   ]
  },
  {
   "cell_type": "code",
   "execution_count": 1,
   "metadata": {},
   "outputs": [],
   "source": [
    "import bpforms"
   ]
  },
  {
   "cell_type": "markdown",
   "metadata": {},
   "source": [
    "### 2. Create an instance of `BpForm`\n",
    "Use the [`BpForm` notation](https://docs.karrlab.org/bpforms) and the `BpForm.from_str` method to create an instance of `BpForm` to represent a form of a biopolymer.\n",
    "\n",
    "`BpForms` includes six predefined alphabet and six pre-defined subclasses of `BpForm`:\n",
    "* Canonical DNA (`bpforms.canonical_dna_alphabet`, `bpforms.CanonicalDnaForm`): four canonical bases\n",
    "* Canonical RNA (`bpforms.canonical_rna_alphabet`, `bpforms.CanonicalRnaForm`): four canonical bases\n",
    "* Canonical Protein (`bpforms.canonical_protein_alphabet`, `bpforms.CanonicalProteinForm`): 20 canonical bases\n",
    "* DNA (`bpforms.dna_alphabet`, `bpforms.DnaForm`): four canonical bases plus the non-canonical bases defined in [DNAmod](https://dnamod.hoffmanlab.org)\n",
    "* RNA (`bpforms.rna_alphabet`, `bpforms.RnaForm`): four canonical bases plus the non-canonical bases defined in [MODOMICS](http://modomics.genesilico.pl/modifications/)\n",
    "* Protein (`bpforms.protein_alphabet`, `bpforms.ProteinForm`): 20 canonical bases plus the non-canonical bases defined in [RESID](https://pir.georgetown.edu/resid/)"
   ]
  },
  {
   "cell_type": "markdown",
   "metadata": {},
   "source": [
    "#### Create a `BpForm` composed of canonical bases\n",
    "Bases defined in the alphabets can be referenced by their single character codes."
   ]
  },
  {
   "cell_type": "code",
   "execution_count": 2,
   "metadata": {},
   "outputs": [],
   "source": [
    "dna_form = bpforms.DnaForm().from_str('ACGT')"
   ]
  },
  {
   "cell_type": "markdown",
   "metadata": {},
   "source": [
    "#### Create a `BpForm` that includes non-canonical bases \n",
    "Some of the non-canonical bases in the alphabets are represented by multiple characters. Their character codes must be delimited by curly brackets."
   ]
  },
  {
   "cell_type": "code",
   "execution_count": 3,
   "metadata": {},
   "outputs": [],
   "source": [
    "dna_form = bpforms.DnaForm().from_str('A{m2C}GT')"
   ]
  },
  {
   "cell_type": "markdown",
   "metadata": {},
   "source": [
    "#### Create a `BpForm` that includes a base that is not defined in the alphabet\n",
    "Additional bases can be described in square brackets using one or more attributes separated by vertical pipes (\"|\"):\n",
    "* `id`\n",
    "* `name`\n",
    "* `synonym`\n",
    "* `identifier`\n",
    "* `structure`: InChI-encoded string that represents the structure of the base\n",
    "* `delta-mass`: additional mass in Daltons beyond that described by the `structure` attribute; used to represent uncertainty in the structure of the base.\n",
    "* `delta-charge`: additional charge beyond that described by the `structure` attribute; used to represent uncertainty in the structure of the base.\n",
    "* `position`: represents uncertainty in the location of a non-canonical base.\n",
    "* `comments`"
   ]
  },
  {
   "cell_type": "code",
   "execution_count": 4,
   "metadata": {},
   "outputs": [],
   "source": [
    "dna_form = bpforms.DnaForm().from_str(\n",
    "    '''A[\n",
    "         id: \"m2C\" \n",
    "         | name: \"2-O-methylcytosine\"\n",
    "         | synonym: \"4-amino-2-methoxypyrimidine\"\n",
    "         | synonym: \"o-2-methylcytosine\"\n",
    "         | identifier: \"ChEBI\" / \"CHEBI:70854\"\n",
    "         | structure: InChI=1S/C5H7N3O/c1-9-5-7-3-2-4(6)8-5/h2-3H,1H3,(H2,6,7,8)\n",
    "         | comments: \"Methylation of deoxycytidine\"\n",
    "         | position: 2-3\n",
    "        ]GT'''.replace('\\n', '').replace(' ', ''))"
   ]
  },
  {
   "cell_type": "markdown",
   "metadata": {},
   "source": [
    "### 3. Calculate the major protonatation state of the form at pH 8.0"
   ]
  },
  {
   "cell_type": "code",
   "execution_count": 5,
   "metadata": {},
   "outputs": [
    {
     "data": {
      "text/plain": [
       "'A[id: \"m2C\" | name: \"2-O-methylcytosine\" | synonym: \"4-amino-2-methoxypyrimidine\" | synonym: \"o-2-methylcytosine\" | identifier: \"ChEBI\" / \"CHEBI:70854\" | structure: InChI=1S/C5H6N3O/c1-9-5-7-3-2-4(6)8-5/h2-3H,1H3,(H-,6,7,8)/q-1/p+1 | position: 2-3 | comments: \"Methylationofdeoxycytidine\"]GT'"
      ]
     },
     "execution_count": 5,
     "metadata": {},
     "output_type": "execute_result"
    }
   ],
   "source": [
    "dna_form.protonate(8.)\n",
    "str(dna_form)"
   ]
  },
  {
   "cell_type": "markdown",
   "metadata": {},
   "source": [
    "### 4. Calculate physical properties of the form\n",
    "`BpForms` can calculate the length, formula, molecular weight, and charge of the biopolymer forms."
   ]
  },
  {
   "cell_type": "code",
   "execution_count": 6,
   "metadata": {},
   "outputs": [
    {
     "data": {
      "text/plain": [
       "4"
      ]
     },
     "execution_count": 6,
     "metadata": {},
     "output_type": "execute_result"
    }
   ],
   "source": [
    "len(dna_form)"
   ]
  },
  {
   "cell_type": "code",
   "execution_count": 7,
   "metadata": {},
   "outputs": [
    {
     "data": {
      "text/plain": [
       "'C35H40N15O22P3'"
      ]
     },
     "execution_count": 7,
     "metadata": {},
     "output_type": "execute_result"
    }
   ],
   "source": [
    "str(dna_form.get_formula())"
   ]
  },
  {
   "cell_type": "code",
   "execution_count": 8,
   "metadata": {},
   "outputs": [
    {
     "data": {
      "text/plain": [
       "1115.7092859939999"
      ]
     },
     "execution_count": 8,
     "metadata": {},
     "output_type": "execute_result"
    }
   ],
   "source": [
    "dna_form.get_mol_wt()"
   ]
  },
  {
   "cell_type": "code",
   "execution_count": 9,
   "metadata": {},
   "outputs": [
    {
     "data": {
      "text/plain": [
       "-4"
      ]
     },
     "execution_count": 9,
     "metadata": {},
     "output_type": "execute_result"
    }
   ],
   "source": [
    "dna_form.get_charge()"
   ]
  },
  {
   "cell_type": "markdown",
   "metadata": {},
   "source": [
    "### 5. Determine if the biopolymer is equal to another biopolymer\n",
    "Use the `is_equal` method to check if two biopolymers are equal."
   ]
  },
  {
   "cell_type": "code",
   "execution_count": 10,
   "metadata": {},
   "outputs": [],
   "source": [
    "dna_form_1 = bpforms.DnaForm().from_str('ACGT')\n",
    "dna_form_2 = bpforms.DnaForm().from_str('ACGT')\n",
    "dna_form_3 = bpforms.DnaForm().from_str('GCTC')"
   ]
  },
  {
   "cell_type": "code",
   "execution_count": 11,
   "metadata": {},
   "outputs": [
    {
     "data": {
      "text/plain": [
       "True"
      ]
     },
     "execution_count": 11,
     "metadata": {},
     "output_type": "execute_result"
    }
   ],
   "source": [
    "dna_form_1.is_equal(dna_form_2)"
   ]
  },
  {
   "cell_type": "code",
   "execution_count": 12,
   "metadata": {},
   "outputs": [
    {
     "data": {
      "text/plain": [
       "False"
      ]
     },
     "execution_count": 12,
     "metadata": {},
     "output_type": "execute_result"
    }
   ],
   "source": [
    "dna_form_1.is_equal(dna_form_3)"
   ]
  }
 ],
 "metadata": {
  "kernelspec": {
   "display_name": "Python 3",
   "language": "python",
   "name": "python3"
  },
  "language_info": {
   "codemirror_mode": {
    "name": "ipython",
    "version": 3
   },
   "file_extension": ".py",
   "mimetype": "text/x-python",
   "name": "python",
   "nbconvert_exporter": "python",
   "pygments_lexer": "ipython3",
   "version": "3.6.3"
  }
 },
 "nbformat": 4,
 "nbformat_minor": 2
}
